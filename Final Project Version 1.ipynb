{
 "cells": [
  {
   "cell_type": "markdown",
   "metadata": {},
   "source": [
    "<b>Jacob J. Zhang</b><br>\n",
    "<i>CISC 5420 Final Project</i><br>\n",
    "Why Do Higher Populated Regions Provide a Higher Well-Being Index?\n",
    "\n",
    "The question I had posed for the midterm project was whether or not regions with lower populations had a higher well-being index, as defined by 1) access to education, 2) access to healthcare, and 3) income. We ended up seeing trends where densely populated regions seemed to provide 1) less students per school, 2) slightly more access to healthcare, and 3) greater incomes-- all things which contributed to having a stronger composite index score for our well-being metric.\n",
    "\n",
    "I then began to ponder why this was the case.\n"
   ]
  },
  {
   "cell_type": "code",
   "execution_count": 1,
   "metadata": {
    "collapsed": true
   },
   "outputs": [],
   "source": [
    "%matplotlib inline\n",
    "import numpy\n",
    "import pandas\n",
    "import scipy\n",
    "from scipy import stats\n",
    "from scipy.stats.mstats import gmean"
   ]
  },
  {
   "cell_type": "code",
   "execution_count": null,
   "metadata": {
    "collapsed": true
   },
   "outputs": [],
   "source": []
  },
  {
   "cell_type": "code",
   "execution_count": null,
   "metadata": {
    "collapsed": true
   },
   "outputs": [],
   "source": []
  }
 ],
 "metadata": {
  "kernelspec": {
   "display_name": "Python [Root]",
   "language": "python",
   "name": "Python [Root]"
  },
  "language_info": {
   "codemirror_mode": {
    "name": "ipython",
    "version": 3
   },
   "file_extension": ".py",
   "mimetype": "text/x-python",
   "name": "python",
   "nbconvert_exporter": "python",
   "pygments_lexer": "ipython3",
   "version": "3.5.2"
  }
 },
 "nbformat": 4,
 "nbformat_minor": 0
}
